{
 "cells": [
  {
   "cell_type": "code",
   "execution_count": 1,
   "metadata": {
    "collapsed": true
   },
   "outputs": [],
   "source": [
    "import tensorflow as tf"
   ]
  },
  {
   "cell_type": "code",
   "execution_count": 2,
   "metadata": {
    "collapsed": true
   },
   "outputs": [],
   "source": [
    "import os\n",
    "os.environ['TF_CPP_MIN_LOG_LEVEL']='2'\n",
    "\n",
    "import numpy as np\n",
    "import matplotlib.pyplot as plt\n",
    "import xlrd"
   ]
  },
  {
   "cell_type": "code",
   "execution_count": 5,
   "metadata": {
    "collapsed": false
   },
   "outputs": [
    {
     "name": "stdout",
     "output_type": "stream",
     "text": [
      "Extracting stanford-tensorflow-tutorials-master/data/mnist/train-images-idx3-ubyte.gz\n",
      "Extracting stanford-tensorflow-tutorials-master/data/mnist/train-labels-idx1-ubyte.gz\n",
      "Extracting stanford-tensorflow-tutorials-master/data/mnist/t10k-images-idx3-ubyte.gz\n",
      "Extracting stanford-tensorflow-tutorials-master/data/mnist/t10k-labels-idx1-ubyte.gz\n"
     ]
    }
   ],
   "source": [
    "# Step 1: Read in data\n",
    "# using TF Learn's built in function to load MNIST data to the folder data/mnist\n",
    "from tensorflow.examples.tutorials.mnist import input_data\n",
    "MNIST = input_data.read_data_sets(\"stanford-tensorflow-tutorials-master/data/mnist\", one_hot=True)"
   ]
  },
  {
   "cell_type": "code",
   "execution_count": 12,
   "metadata": {
    "collapsed": false
   },
   "outputs": [
    {
     "name": "stdout",
     "output_type": "stream",
     "text": [
      "loss at epoch 0 899.219835877\n",
      "loss at epoch 10 359.448229134\n",
      "loss at epoch 20 275.481594831\n",
      "loss at epoch 30 240.192964137\n",
      "loss at epoch 40 219.425388366\n",
      "loss at epoch 50 208.91089493\n",
      "loss at epoch 60 198.104617566\n",
      "loss at epoch 70 189.681468964\n",
      "loss at epoch 80 182.979230314\n",
      "loss at epoch 90 179.407201439\n",
      "Accuracy 0.8979\n"
     ]
    }
   ],
   "source": [
    "tf.reset_default_graph()\n",
    "batch_size = 128\n",
    "X = tf.placeholder(tf.float32, shape=[batch_size, 784], name='X')\n",
    "Y = tf.placeholder(tf.float32, shape=[batch_size, 10], name='Y')\n",
    "W = tf.Variable(tf.random_normal(shape=[784, 10], stddev=0.001), name='weights')\n",
    "b = tf.Variable(tf.zeros([1, 10]), name='bias')\n",
    "Y_predicted = tf.add(tf.matmul(X, W), b)\n",
    "entropy = tf.nn.softmax_cross_entropy_with_logits(labels=Y, logits=Y_predicted)\n",
    "loss = tf.reduce_mean(entropy, name='loss')\n",
    "saver = tf.train.Saver()\n",
    "my_global_step = tf.Variable(0, dtype=tf.int32, trainable=False, name='global_step')\n",
    "optimizer = tf.train.GradientDescentOptimizer(learning_rate=0.001).minimize(loss, global_step=my_global_step)\n",
    "with tf.Session() as sess:\n",
    "    n_batches = int(MNIST.train.num_examples / batch_size)\n",
    "    sess.run(tf.global_variables_initializer())\n",
    "    for i in range(100):\n",
    "        total_loss = 0\n",
    "        for _ in range(n_batches):\n",
    "            X_batch, Y_batch = MNIST.train.next_batch(batch_size)\n",
    "            _, l = sess.run([optimizer, loss], feed_dict={X: X_batch, Y: Y_batch})\n",
    "            total_loss += l\n",
    "        if (i % 10 == 0):\n",
    "            print(\"loss at epoch\", str(i), str(total_loss))\n",
    "            saver.save(sess, 'checkpoints/mnist', global_step=my_global_step)\n",
    "    W_value, b_value = sess.run([W, b])\n",
    "    \n",
    "    \n",
    "    \n",
    "    # test the model\n",
    "    n_batches = int(MNIST.test.num_examples/batch_size)\n",
    "    total_correct_preds = 0\n",
    "    for i in range(n_batches):\n",
    "        X_batch, Y_batch = MNIST.test.next_batch(batch_size)\n",
    "        _, loss_batch, logits_batch = sess.run([optimizer, loss, Y_predicted], feed_dict={X: X_batch, Y:Y_batch})\n",
    "        preds = tf.nn.softmax(logits_batch)\n",
    "        correct_preds = tf.equal(tf.argmax(preds, 1), tf.argmax(Y_batch, 1))\n",
    "        accuracy = tf.reduce_sum(tf.cast(correct_preds, tf.float32)) # similar to numpy.count_nonzero(boolarray) :(\n",
    "        total_correct_preds += sess.run(accuracy)\n",
    "    print(\"Accuracy {0}\".format(total_correct_preds/MNIST.test.num_examples))"
   ]
  },
  {
   "cell_type": "code",
   "execution_count": 15,
   "metadata": {
    "collapsed": false
   },
   "outputs": [
    {
     "name": "stdout",
     "output_type": "stream",
     "text": [
      "INFO:tensorflow:Restoring parameters from checkpoints/mnist-39039\n",
      "[[-0.08904406  0.18173683 -0.03771121 -0.06837919  0.05290473  0.20221639\n",
      "  -0.01894065  0.12670101 -0.30524585 -0.04423724]]\n"
     ]
    }
   ],
   "source": [
    "with tf.Session() as sess:\n",
    "    saver.restore(sess, 'checkpoints/mnist-39039')\n",
    "    print(b.eval())"
   ]
  },
  {
   "cell_type": "code",
   "execution_count": 21,
   "metadata": {
    "collapsed": false
   },
   "outputs": [
    {
     "name": "stdout",
     "output_type": "stream",
     "text": [
      "Accuracy 0.8978\n"
     ]
    }
   ],
   "source": [
    "tf.reset_default_graph()\n",
    "batch_size = 128\n",
    "X = tf.placeholder(tf.float32, shape=[batch_size, 784], name='X')\n",
    "Y = tf.placeholder(tf.float32, shape=[batch_size, 10], name='Y')\n",
    "W = tf.Variable(tf.random_normal(shape=[784, 10], stddev=0.001), name='weights')\n",
    "b = tf.Variable(tf.zeros([1, 10]), name='bias')\n",
    "Y_predicted = tf.add(tf.matmul(X, W), b)\n",
    "entropy = tf.nn.softmax_cross_entropy_with_logits(labels=Y, logits=Y_predicted)\n",
    "loss = tf.reduce_mean(entropy, name='loss')\n",
    "my_global_step = tf.Variable(0, dtype=tf.int32, trainable=False, name='global_step')\n",
    "optimizer = tf.train.GradientDescentOptimizer(learning_rate=0.001).minimize(loss, global_step=my_global_step)\n",
    "tf.summary.scalar(\"loss\", loss)\n",
    "tf.summary.histogram(\"loss_hist\", loss)\n",
    "summary_op = tf.summary.merge_all()\n",
    "with tf.Session() as sess:\n",
    "    writer = tf.summary.FileWriter('graphs/', sess.graph)\n",
    "    n_batches = int(MNIST.train.num_examples / batch_size)\n",
    "    sess.run(tf.global_variables_initializer())\n",
    "    for i in range(100):\n",
    "        total_loss = 0\n",
    "        for i in range(n_batches):\n",
    "            X_batch, Y_batch = MNIST.train.next_batch(batch_size)\n",
    "            _, l, summary = sess.run([optimizer, loss, summary_op], feed_dict={X: X_batch, Y: Y_batch})\n",
    "            total_loss += l\n",
    "            writer.add_summary(summary, global_step=i)\n",
    "        if (i % 10 == 0):\n",
    "            print(\"loss at epoch\", str(i), str(total_loss))\n",
    "    W_value, b_value = sess.run([W, b])\n",
    "    writer.close()\n",
    "    \n",
    "    \n",
    "    \n",
    "    # test the model\n",
    "    n_batches = int(MNIST.test.num_examples/batch_size)\n",
    "    total_correct_preds = 0\n",
    "    for i in range(n_batches):\n",
    "        X_batch, Y_batch = MNIST.test.next_batch(batch_size)\n",
    "        _, loss_batch, logits_batch = sess.run([optimizer, loss, Y_predicted], feed_dict={X: X_batch, Y:Y_batch})\n",
    "        preds = tf.nn.softmax(logits_batch)\n",
    "        correct_preds = tf.equal(tf.argmax(preds, 1), tf.argmax(Y_batch, 1))\n",
    "        accuracy = tf.reduce_sum(tf.cast(correct_preds, tf.float32)) # similar to numpy.count_nonzero(boolarray) :(\n",
    "        total_correct_preds += sess.run(accuracy)\n",
    "    print(\"Accuracy {0}\".format(total_correct_preds/MNIST.test.num_examples))"
   ]
  },
  {
   "cell_type": "code",
   "execution_count": 22,
   "metadata": {
    "collapsed": false
   },
   "outputs": [
    {
     "name": "stdout",
     "output_type": "stream",
     "text": [
      "Accuracy 0.8984\n"
     ]
    }
   ],
   "source": [
    "tf.reset_default_graph()\n",
    "batch_size = 128\n",
    "with tf.name_scope(\"data\"):\n",
    "    X = tf.placeholder(tf.float32, shape=[batch_size, 784], name='X')\n",
    "    Y = tf.placeholder(tf.float32, shape=[batch_size, 10], name='Y')\n",
    "with tf.name_scope(\"weights\"):\n",
    "    W = tf.Variable(tf.random_normal(shape=[784, 10], stddev=0.001), name='weights')\n",
    "    b = tf.Variable(tf.zeros([1, 10]), name='bias')\n",
    "Y_predicted = tf.add(tf.matmul(X, W), b)\n",
    "with tf.name_scope(\"loss\"):\n",
    "    entropy = tf.nn.softmax_cross_entropy_with_logits(labels=Y, logits=Y_predicted)\n",
    "    loss = tf.reduce_mean(entropy, name='loss')\n",
    "my_global_step = tf.Variable(0, dtype=tf.int32, trainable=False, name='global_step')\n",
    "with tf.name_scope(\"optimizer\"):\n",
    "    optimizer = tf.train.GradientDescentOptimizer(learning_rate=0.001).minimize(loss, global_step=my_global_step)\n",
    "tf.summary.scalar(\"loss\", loss)\n",
    "tf.summary.histogram(\"loss_hist\", loss)\n",
    "summary_op = tf.summary.merge_all()\n",
    "with tf.Session() as sess:\n",
    "    writer = tf.summary.FileWriter('graphs/', sess.graph)\n",
    "    n_batches = int(MNIST.train.num_examples / batch_size)\n",
    "    sess.run(tf.global_variables_initializer())\n",
    "    for i in range(100):\n",
    "        total_loss = 0\n",
    "        for i in range(n_batches):\n",
    "            X_batch, Y_batch = MNIST.train.next_batch(batch_size)\n",
    "            _, l, summary = sess.run([optimizer, loss, summary_op], feed_dict={X: X_batch, Y: Y_batch})\n",
    "            total_loss += l\n",
    "            writer.add_summary(summary, global_step=i)\n",
    "        if (i % 10 == 0):\n",
    "            print(\"loss at epoch\", str(i), str(total_loss))\n",
    "    W_value, b_value = sess.run([W, b])\n",
    "    writer.close()\n",
    "    \n",
    "    \n",
    "    \n",
    "    # test the model\n",
    "    n_batches = int(MNIST.test.num_examples/batch_size)\n",
    "    total_correct_preds = 0\n",
    "    for i in range(n_batches):\n",
    "        X_batch, Y_batch = MNIST.test.next_batch(batch_size)\n",
    "        _, loss_batch, logits_batch = sess.run([optimizer, loss, Y_predicted], feed_dict={X: X_batch, Y:Y_batch})\n",
    "        preds = tf.nn.softmax(logits_batch)\n",
    "        correct_preds = tf.equal(tf.argmax(preds, 1), tf.argmax(Y_batch, 1))\n",
    "        accuracy = tf.reduce_sum(tf.cast(correct_preds, tf.float32)) # similar to numpy.count_nonzero(boolarray) :(\n",
    "        total_correct_preds += sess.run(accuracy)\n",
    "    print(\"Accuracy {0}\".format(total_correct_preds/MNIST.test.num_examples))"
   ]
  },
  {
   "cell_type": "code",
   "execution_count": 24,
   "metadata": {
    "collapsed": false
   },
   "outputs": [
    {
     "name": "stdout",
     "output_type": "stream",
     "text": [
      "Accuracy 0.8434\n"
     ]
    }
   ],
   "source": [
    "tf.reset_default_graph()\n",
    "batch_size = 128\n",
    "with tf.name_scope(\"data\"):\n",
    "    X = tf.placeholder(tf.float32, shape=[batch_size, 784], name='X')\n",
    "    Y = tf.placeholder(tf.float32, shape=[batch_size, 10], name='Y')\n",
    "with tf.name_scope(\"weights\"):\n",
    "    W = tf.Variable(tf.random_normal(shape=[784, 10], stddev=0.001), name='weights')\n",
    "    b = tf.Variable(tf.zeros([1, 10]), name='bias')\n",
    "Y_predicted = tf.add(tf.matmul(X, W), b)\n",
    "with tf.name_scope(\"loss\"):\n",
    "    entropy = tf.nn.softmax_cross_entropy_with_logits(labels=Y, logits=Y_predicted)\n",
    "    loss = tf.reduce_mean(entropy, name='loss')\n",
    "my_global_step = tf.Variable(0, dtype=tf.int32, trainable=False, name='global_step')\n",
    "with tf.name_scope(\"optimizer\"):\n",
    "    optimizer = tf.train.GradientDescentOptimizer(learning_rate=0.0001).minimize(loss, global_step=my_global_step)\n",
    "tf.summary.scalar(\"loss\", loss)\n",
    "tf.summary.histogram(\"loss_hist\", loss)\n",
    "summary_op = tf.summary.merge_all()\n",
    "with tf.Session() as sess:\n",
    "    writer = tf.summary.FileWriter('graphs/', sess.graph)\n",
    "    n_batches = int(MNIST.train.num_examples / batch_size)\n",
    "    sess.run(tf.global_variables_initializer())\n",
    "    for i in range(100):\n",
    "        total_loss = 0\n",
    "        for j in range(n_batches):\n",
    "            X_batch, Y_batch = MNIST.train.next_batch(batch_size)\n",
    "            _, l, summary = sess.run([optimizer, loss, summary_op], feed_dict={X: X_batch, Y: Y_batch})\n",
    "            total_loss += l\n",
    "            writer.add_summary(summary, global_step=j)\n",
    "        if (i % 10 == 0):\n",
    "            print(\"loss at epoch\", str(i), str(total_loss))\n",
    "    W_value, b_value = sess.run([W, b])\n",
    "    writer.close()\n",
    "    \n",
    "    \n",
    "    \n",
    "    # test the model\n",
    "    n_batches = int(MNIST.test.num_examples/batch_size)\n",
    "    total_correct_preds = 0\n",
    "    for i in range(n_batches):\n",
    "        X_batch, Y_batch = MNIST.test.next_batch(batch_size)\n",
    "        _, loss_batch, logits_batch = sess.run([optimizer, loss, Y_predicted], feed_dict={X: X_batch, Y:Y_batch})\n",
    "        preds = tf.nn.softmax(logits_batch)\n",
    "        correct_preds = tf.equal(tf.argmax(preds, 1), tf.argmax(Y_batch, 1))\n",
    "        accuracy = tf.reduce_sum(tf.cast(correct_preds, tf.float32)) # similar to numpy.count_nonzero(boolarray) :(\n",
    "        total_correct_preds += sess.run(accuracy)\n",
    "    print(\"Accuracy {0}\".format(total_correct_preds/MNIST.test.num_examples))"
   ]
  },
  {
   "cell_type": "code",
   "execution_count": 26,
   "metadata": {
    "collapsed": false
   },
   "outputs": [
    {
     "name": "stdout",
     "output_type": "stream",
     "text": [
      "Accuracy 0.8979\n"
     ]
    }
   ],
   "source": [
    "tf.reset_default_graph()\n",
    "batch_size = 128\n",
    "with tf.name_scope(\"data\"):\n",
    "    X = tf.placeholder(tf.float32, shape=[batch_size, 784], name='X')\n",
    "    Y = tf.placeholder(tf.float32, shape=[batch_size, 10], name='Y')\n",
    "with tf.name_scope(\"weights\"):\n",
    "    W = tf.Variable(tf.random_normal(shape=[784, 10], stddev=0.001), name='weights')\n",
    "    b = tf.Variable(tf.zeros([1, 10]), name='bias')\n",
    "Y_predicted = tf.add(tf.matmul(X, W), b)\n",
    "with tf.name_scope(\"loss\"):\n",
    "    entropy = tf.nn.softmax_cross_entropy_with_logits(labels=Y, logits=Y_predicted)\n",
    "    loss = tf.reduce_mean(entropy, name='loss')\n",
    "my_global_step = tf.Variable(0, dtype=tf.int32, trainable=False, name='global_step')\n",
    "with tf.name_scope(\"optimizer\"):\n",
    "    optimizer = tf.train.GradientDescentOptimizer(learning_rate=0.001).minimize(loss, global_step=my_global_step)\n",
    "tf.summary.scalar(\"loss\", loss)\n",
    "tf.summary.histogram(\"loss_hist\", loss)\n",
    "summary_op = tf.summary.merge_all()\n",
    "with tf.Session() as sess:\n",
    "    writer = tf.summary.FileWriter('graphs/', sess.graph)\n",
    "    n_batches = int(MNIST.train.num_examples / batch_size)\n",
    "    sess.run(tf.global_variables_initializer())\n",
    "    for i in range(100):\n",
    "        total_loss = 0\n",
    "        for j in range(n_batches):\n",
    "            X_batch, Y_batch = MNIST.train.next_batch(batch_size)\n",
    "            _, l, summary = sess.run([optimizer, loss, summary_op], feed_dict={X: X_batch, Y: Y_batch})\n",
    "            total_loss += l\n",
    "            writer.add_summary(summary, global_step=j)\n",
    "        if (i % 10 == 0):\n",
    "            print(\"loss at epoch\", str(i), str(total_loss))\n",
    "    W_value, b_value = sess.run([W, b])\n",
    "    writer.close()\n",
    "    \n",
    "    \n",
    "    \n",
    "    # test the model\n",
    "    n_batches = int(MNIST.test.num_examples/batch_size)\n",
    "    total_correct_preds = 0\n",
    "    for i in range(n_batches):\n",
    "        X_batch, Y_batch = MNIST.test.next_batch(batch_size)\n",
    "        _, loss_batch, logits_batch = sess.run([optimizer, loss, Y_predicted], feed_dict={X: X_batch, Y:Y_batch})\n",
    "        preds = tf.nn.softmax(logits_batch)\n",
    "        correct_preds = tf.equal(tf.argmax(preds, 1), tf.argmax(Y_batch, 1))\n",
    "        accuracy = tf.reduce_sum(tf.cast(correct_preds, tf.float32)) # similar to numpy.count_nonzero(boolarray) :(\n",
    "        total_correct_preds += sess.run(accuracy)\n",
    "    print(\"Accuracy {0}\".format(total_correct_preds/MNIST.test.num_examples))"
   ]
  },
  {
   "cell_type": "code",
   "execution_count": 28,
   "metadata": {
    "collapsed": false
   },
   "outputs": [
    {
     "name": "stdout",
     "output_type": "stream",
     "text": [
      "loss at epoch 0 900.078745961\n",
      "loss at epoch 100 175.260608628\n",
      "loss at epoch 200 153.884535775\n",
      "loss at epoch 300 144.49419938\n",
      "loss at epoch 400 138.350453585\n",
      "loss at epoch 500 133.989421487\n",
      "loss at epoch 600 130.818318874\n",
      "loss at epoch 700 129.501750425\n",
      "loss at epoch 800 127.794463389\n",
      "loss at epoch 900 124.995478287\n",
      "Accuracy 0.9187\n"
     ]
    }
   ],
   "source": [
    "tf.reset_default_graph()\n",
    "batch_size = 128\n",
    "with tf.name_scope(\"data\"):\n",
    "    X = tf.placeholder(tf.float32, shape=[batch_size, 784], name='X')\n",
    "    Y = tf.placeholder(tf.float32, shape=[batch_size, 10], name='Y')\n",
    "with tf.name_scope(\"weights\"):\n",
    "    W = tf.Variable(tf.random_normal(shape=[784, 10], stddev=0.001), name='weights')\n",
    "    b = tf.Variable(tf.zeros([1, 10]), name='bias')\n",
    "Y_predicted = tf.add(tf.matmul(X, W), b)\n",
    "with tf.name_scope(\"loss\"):\n",
    "    entropy = tf.nn.softmax_cross_entropy_with_logits(labels=Y, logits=Y_predicted)\n",
    "    loss = tf.reduce_mean(entropy, name='loss')\n",
    "my_global_step = tf.Variable(0, dtype=tf.int32, trainable=False, name='global_step')\n",
    "with tf.name_scope(\"optimizer\"):\n",
    "    optimizer = tf.train.GradientDescentOptimizer(learning_rate=0.001).minimize(loss, global_step=my_global_step)\n",
    "tf.summary.scalar(\"loss\", loss)\n",
    "tf.summary.histogram(\"loss_hist\", loss)\n",
    "summary_op = tf.summary.merge_all()\n",
    "with tf.Session() as sess:\n",
    "    writer = tf.summary.FileWriter('graphs/', sess.graph)\n",
    "    n_batches = int(MNIST.train.num_examples / batch_size)\n",
    "    sess.run(tf.global_variables_initializer())\n",
    "    for i in range(1000):\n",
    "        total_loss = 0\n",
    "        for j in range(n_batches):\n",
    "            X_batch, Y_batch = MNIST.train.next_batch(batch_size)\n",
    "            _, l, summary = sess.run([optimizer, loss, summary_op], feed_dict={X: X_batch, Y: Y_batch})\n",
    "            total_loss += l\n",
    "            writer.add_summary(summary, global_step=j)\n",
    "        if (i % 100 == 0):\n",
    "            print(\"loss at epoch\", str(i), str(total_loss))\n",
    "    W_value, b_value = sess.run([W, b])\n",
    "    writer.close()\n",
    "    \n",
    "    \n",
    "    \n",
    "    # test the model\n",
    "    n_batches = int(MNIST.test.num_examples/batch_size)\n",
    "    total_correct_preds = 0\n",
    "    for i in range(n_batches):\n",
    "        X_batch, Y_batch = MNIST.test.next_batch(batch_size)\n",
    "        _, loss_batch, logits_batch = sess.run([optimizer, loss, Y_predicted], feed_dict={X: X_batch, Y:Y_batch})\n",
    "        preds = tf.nn.softmax(logits_batch)\n",
    "        correct_preds = tf.equal(tf.argmax(preds, 1), tf.argmax(Y_batch, 1))\n",
    "        accuracy = tf.reduce_sum(tf.cast(correct_preds, tf.float32)) # similar to numpy.count_nonzero(boolarray) :(\n",
    "        total_correct_preds += sess.run(accuracy)\n",
    "    print(\"Accuracy {0}\".format(total_correct_preds/MNIST.test.num_examples))"
   ]
  },
  {
   "cell_type": "code",
   "execution_count": null,
   "metadata": {
    "collapsed": true
   },
   "outputs": [],
   "source": []
  },
  {
   "cell_type": "code",
   "execution_count": null,
   "metadata": {
    "collapsed": true
   },
   "outputs": [],
   "source": []
  },
  {
   "cell_type": "code",
   "execution_count": null,
   "metadata": {
    "collapsed": true
   },
   "outputs": [],
   "source": []
  }
 ],
 "metadata": {
  "anaconda-cloud": {},
  "kernelspec": {
   "display_name": "Python [conda root]",
   "language": "python",
   "name": "conda-root-py"
  },
  "language_info": {
   "codemirror_mode": {
    "name": "ipython",
    "version": 3
   },
   "file_extension": ".py",
   "mimetype": "text/x-python",
   "name": "python",
   "nbconvert_exporter": "python",
   "pygments_lexer": "ipython3",
   "version": "3.5.2"
  }
 },
 "nbformat": 4,
 "nbformat_minor": 2
}
